{
 "cells": [
  {
   "cell_type": "markdown",
   "id": "01d640f5",
   "metadata": {},
   "source": [
    "Import packages"
   ]
  },
  {
   "cell_type": "code",
   "execution_count": 7,
   "id": "487c0c4d",
   "metadata": {},
   "outputs": [],
   "source": [
    "import numpy as np\n",
    "import pandas as pd\n",
    "from sklearn import linear_model\n",
    "from sklearn.model_selection import train_test_split\n",
    "from sklearn.metrics import mean_squared_error, mean_absolute_error, r2_score"
   ]
  },
  {
   "cell_type": "markdown",
   "id": "a98524ad",
   "metadata": {},
   "source": [
    "Data preparation"
   ]
  },
  {
   "cell_type": "code",
   "execution_count": null,
   "id": "acf9318a",
   "metadata": {},
   "outputs": [
    {
     "name": "stdout",
     "output_type": "stream",
     "text": [
      "34\n"
     ]
    }
   ],
   "source": [
    "df = pd.read_csv('../data/energydata_complete_cleaned.csv', parse_dates=['date'], index_col='date')\n",
    "df.sort_index(inplace=True)\n",
    "print('Data shape: ', df.shape)\n",
    "\n",
    "# Define features and target variable\n",
    "features = ['lights', 'T1', 'RH_1', 'T2', 'RH_2', 'T3', 'RH_3', 'T4', 'RH_4', \n",
    "            'T5', 'RH_5', 'T6', 'RH_6', 'T7', 'RH_7', 'T8', 'RH_8', 'T9', \n",
    "            'RH_9', 'T_out', 'Press_mm_hg', 'RH_out', 'Windspeed', \n",
    "            'Visibility', 'Tdewpoint', 'hour_of_day', 'day_of_week', \n",
    "            'is_weekend', 'hour_sin', 'hour_cos', 'day_of_week_sin', \n",
    "            'day_of_week_cos', 'Appliances_lag1', 'Appliances_rolling_mean_6']\n",
    "target = 'Appliances'\n",
    "print('Feature number: ', len(features))\n",
    "\n",
    "X = df[features]\n",
    "y = df[target]"
   ]
  },
  {
   "cell_type": "markdown",
   "id": "ded531e4",
   "metadata": {},
   "source": [
    "Linear Regression"
   ]
  },
  {
   "cell_type": "code",
   "execution_count": null,
   "id": "618017f3",
   "metadata": {},
   "outputs": [],
   "source": []
  }
 ],
 "metadata": {
  "kernelspec": {
   "display_name": ".venv",
   "language": "python",
   "name": "python3"
  },
  "language_info": {
   "codemirror_mode": {
    "name": "ipython",
    "version": 3
   },
   "file_extension": ".py",
   "mimetype": "text/x-python",
   "name": "python",
   "nbconvert_exporter": "python",
   "pygments_lexer": "ipython3",
   "version": "3.13.2"
  }
 },
 "nbformat": 4,
 "nbformat_minor": 5
}
