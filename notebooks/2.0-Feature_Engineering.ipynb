{
 "cells": [
  {
   "cell_type": "markdown",
   "id": "ab30bfc6",
   "metadata": {},
   "source": [
    "Import packages"
   ]
  },
  {
   "cell_type": "code",
   "execution_count": 5,
   "id": "2d115bf1",
   "metadata": {},
   "outputs": [],
   "source": [
    "import numpy as np\n",
    "import pandas as pd\n",
    "import matplotlib.pyplot as plt\n",
    "import seaborn as sns\n",
    "\n",
    "sns.set_style(\"whitegrid\")\n",
    "plt.rcParams['figure.figsize'] = (12, 6) # default figure size\n",
    "plt.rcParams['font.size'] = 12           # default font size\n",
    "plt.rcParams['font.family'] = 'Times New Roman'"
   ]
  },
  {
   "cell_type": "markdown",
   "id": "e6eb32cf",
   "metadata": {},
   "source": [
    "read data"
   ]
  },
  {
   "cell_type": "code",
   "execution_count": 6,
   "id": "b2cb0868",
   "metadata": {},
   "outputs": [],
   "source": [
    "data_path = '../data/energydata_complete_raw.csv'\n",
    "\n",
    "df = pd.read_csv(data_path)"
   ]
  },
  {
   "cell_type": "markdown",
   "id": "9480daec",
   "metadata": {},
   "source": [
    "Remove 'rv2' (it is totally same as 'rv1' )"
   ]
  },
  {
   "cell_type": "code",
   "execution_count": 7,
   "id": "1e23df01",
   "metadata": {},
   "outputs": [],
   "source": [
    "df = df.drop(columns=['rv2'], errors='raise')   # drop a duplicate column ('rv2' is same as 'rv1')"
   ]
  },
  {
   "cell_type": "markdown",
   "id": "232bcfa6",
   "metadata": {},
   "source": [
    "Time feature extraction\n",
    "1. hour\n",
    "2. day_of_week\n",
    "3. is_weekend\n",
    "4. hour_sin\n",
    "5. hour_cos\n",
    "6. day_of_week_sin\n",
    "7. day_of_week_cos"
   ]
  },
  {
   "cell_type": "code",
   "execution_count": 8,
   "id": "c1d49d62",
   "metadata": {},
   "outputs": [],
   "source": [
    "date_format = \"%d-%m-%Y %H:%M\"\n",
    "df['date'] = pd.to_datetime(df['date'], format=date_format, errors='raise')\n",
    "df['hour_of_day'] = df['date'].dt.hour\n",
    "df['day_of_week'] = df['date'].dt.dayofweek     # Monday:0, Sunday:6\n",
    "df['is_weekend'] = df['day_of_week'].isin([5, 6]).astype(int)\n",
    "df['hour_sin'] = np.sin(2 * np.pi * df['hour_of_day'] / 24)\n",
    "df['hour_cos'] = np.cos(2 * np.pi * df['hour_of_day'] / 24)\n",
    "df['day_of_week_sin'] = np.sin(2 * np.pi * df['day_of_week'] / 7)\n",
    "df['day_of_week_cos'] = np.cos(2 * np.pi * df['day_of_week'] / 7)"
   ]
  },
  {
   "cell_type": "markdown",
   "id": "8bb36389",
   "metadata": {},
   "source": [
    "Lag feature"
   ]
  },
  {
   "cell_type": "code",
   "execution_count": 9,
   "id": "779bc355",
   "metadata": {},
   "outputs": [],
   "source": [
    "df['Appliances_lag1'] = df['Appliances'].shift(1)\n",
    "df['Appliances_lag144'] = df['Appliances'].shift(144) # lag of 1 day (144 half-hour intervals)\n",
    "df['T_out_lag1'] = df['T_out'].shift(1)"
   ]
  },
  {
   "cell_type": "markdown",
   "id": "ce1d4458",
   "metadata": {},
   "source": [
    "Rolling statistical feature"
   ]
  },
  {
   "cell_type": "code",
   "execution_count": 10,
   "id": "95992361",
   "metadata": {},
   "outputs": [],
   "source": [
    "df['Appliances_rolling_mean_6'] = df['Appliances'].rolling(window=6).mean().shift(1)"
   ]
  },
  {
   "cell_type": "markdown",
   "id": "d8f5adeb",
   "metadata": {},
   "source": [
    "Data clean (clean the NaN at head, derived because of Lag feature and Rolling statistical feature)"
   ]
  },
  {
   "cell_type": "code",
   "execution_count": 11,
   "id": "99da42e8",
   "metadata": {},
   "outputs": [],
   "source": [
    "# Data clean (clean the NaN at head, derived because of Lag feature and Rolling statistical feature)\n",
    "df = df.dropna().reset_index(drop=True)"
   ]
  },
  {
   "cell_type": "markdown",
   "id": "ca0b328a",
   "metadata": {},
   "source": [
    "Data export"
   ]
  },
  {
   "cell_type": "code",
   "execution_count": 12,
   "id": "1344656b",
   "metadata": {},
   "outputs": [
    {
     "name": "stdout",
     "output_type": "stream",
     "text": [
      "                 date  Appliances  lights         T1       RH_1         T2  \\\n",
      "0 2016-01-12 17:00:00          60       0  20.066667  42.833333  19.000000   \n",
      "1 2016-01-12 17:10:00          60      10  20.000000  42.672500  19.000000   \n",
      "2 2016-01-12 17:20:00         210      20  20.000000  42.530000  18.990000   \n",
      "3 2016-01-12 17:30:00         380      20  20.033333  43.496667  18.902222   \n",
      "4 2016-01-12 17:40:00         370      40  20.033333  42.963333  18.890000   \n",
      "\n",
      "        RH_2         T3       RH_3     T4  ...  day_of_week  is_weekend  \\\n",
      "0  42.418182  19.790000  44.700000  19.26  ...            1           0   \n",
      "1  42.433333  19.790000  44.663333  19.20  ...            1           0   \n",
      "2  42.471818  19.790000  44.590000  19.20  ...            1           0   \n",
      "3  42.580000  19.823333  44.590000  19.20  ...            1           0   \n",
      "4  42.560000  19.890000  44.590000  19.36  ...            1           0   \n",
      "\n",
      "   hour_sin  hour_cos  day_of_week_sin  day_of_week_cos  Appliances_lag1  \\\n",
      "0 -0.965926 -0.258819         0.781831          0.62349             40.0   \n",
      "1 -0.965926 -0.258819         0.781831          0.62349             60.0   \n",
      "2 -0.965926 -0.258819         0.781831          0.62349             60.0   \n",
      "3 -0.965926 -0.258819         0.781831          0.62349            210.0   \n",
      "4 -0.965926 -0.258819         0.781831          0.62349            380.0   \n",
      "\n",
      "   Appliances_lag144  T_out_lag1  Appliances_rolling_mean_6  \n",
      "0               60.0        6.47                  40.000000  \n",
      "1               60.0        6.50                  45.000000  \n",
      "2               50.0        6.32                  48.333333  \n",
      "3               50.0        6.13                  75.000000  \n",
      "4               60.0        5.95                 131.666667  \n",
      "\n",
      "[5 rows x 39 columns]\n"
     ]
    }
   ],
   "source": [
    "print(df.head())\n",
    "\n",
    "df.to_csv('../data/energydata_complete_cleaned.csv', index=False)"
   ]
  }
 ],
 "metadata": {
  "kernelspec": {
   "display_name": ".venv",
   "language": "python",
   "name": "python3"
  },
  "language_info": {
   "codemirror_mode": {
    "name": "ipython",
    "version": 3
   },
   "file_extension": ".py",
   "mimetype": "text/x-python",
   "name": "python",
   "nbconvert_exporter": "python",
   "pygments_lexer": "ipython3",
   "version": "3.9.6"
  }
 },
 "nbformat": 4,
 "nbformat_minor": 5
}
