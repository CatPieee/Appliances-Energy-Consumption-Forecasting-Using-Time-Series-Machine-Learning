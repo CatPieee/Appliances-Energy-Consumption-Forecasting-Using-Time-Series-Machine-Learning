{
 "cells": [
  {
   "cell_type": "markdown",
   "id": "ea91189f",
   "metadata": {},
   "source": [
    "Import packages"
   ]
  },
  {
   "cell_type": "code",
   "execution_count": 18,
   "id": "bdd8c910",
   "metadata": {},
   "outputs": [
    {
     "name": "stdout",
     "output_type": "stream",
     "text": [
      "Using device: mps\n"
     ]
    }
   ],
   "source": [
    "import os\n",
    "import numpy as np\n",
    "import pandas as pd\n",
    "import seaborn as sns\n",
    "import matplotlib.pyplot as plt\n",
    "\n",
    "# Deep learning for time series\n",
    "import torch\n",
    "import torch.nn as nn\n",
    "import torch.optim as optim\n",
    "from torch.utils.data import Dataset, DataLoader\n",
    "\n",
    "# Evaluation metrics\n",
    "from sklearn.metrics import mean_squared_error, root_mean_squared_error, mean_absolute_error, r2_score\n",
    "\n",
    "# Plotting\n",
    "sns.set_style(\"whitegrid\")\n",
    "plt.rcParams['figure.figsize'] = (15, 8)\n",
    "plt.rcParams['font.size'] = 12\n",
    "plt.rcParams['font.family'] = 'Times New Roman'\n",
    "\n",
    "# device (mps or cuda)\n",
    "device = torch.device(\"mps\" if torch.backends.mps.is_available() else \"cuda\" if torch.cuda.is_available() else \"cpu\")\n",
    "print(f\"Using device: {device}\")"
   ]
  },
  {
   "cell_type": "markdown",
   "id": "8e522bd1",
   "metadata": {},
   "source": [
    "Data preparation"
   ]
  },
  {
   "cell_type": "code",
   "execution_count": 19,
   "id": "7b85d493",
   "metadata": {},
   "outputs": [
    {
     "name": "stdout",
     "output_type": "stream",
     "text": [
      "Data shape:  (19591, 38)\n",
      "Date range: 2016-01-12 17:00:00 to 2016-05-27 18:00:00\n",
      "Feature number:  33\n",
      "Training data shape:  (15672, 38)\n",
      "Testing data shape:  (3919, 38)\n",
      "Training period: 2016-01-12 17:00:00 to 2016-04-30 12:50:00\n",
      "Testing period: 2016-04-30 13:00:00 to 2016-05-27 18:00:00\n"
     ]
    }
   ],
   "source": [
    "# Load and prepare data\n",
    "df = pd.read_csv('../data/energydata_complete_cleaned.csv', parse_dates=['date'], index_col='date')\n",
    "df.sort_index(inplace=True)\n",
    "print('Data shape: ', df.shape)\n",
    "print('Date range:', df.index.min(), 'to', df.index.max())\n",
    "\n",
    "# Define features and target variable\n",
    "features = ['lights', 'T1', 'RH_1', 'T2', 'RH_2', 'T3', 'RH_3', 'T4', 'RH_4', \n",
    "            'T5', 'RH_5', 'T6', 'RH_6', 'T7', 'RH_7', 'T8', 'RH_8', 'T9', \n",
    "            'RH_9', 'T_out', 'Press_mm_hg', 'RH_out', 'Windspeed', \n",
    "            'Visibility', 'Tdewpoint', 'rv1',\n",
    "            'is_weekend', 'hour_sin', 'hour_cos', 'day_of_week_sin', \n",
    "            'day_of_week_cos', 'Appliances_lag1', 'Appliances_rolling_mean_6']\n",
    "target = 'Appliances'\n",
    "print('Feature number: ', len(features))\n",
    "\n",
    "# For time series models, we'll use chronological split\n",
    "train_size = int(len(df) * 0.8)\n",
    "train_df = df.iloc[:train_size].copy()\n",
    "test_df = df.iloc[train_size:].copy()\n",
    "\n",
    "print('Training data shape: ', train_df.shape)\n",
    "print('Testing data shape: ', test_df.shape)\n",
    "print('Training period:', train_df.index.min(), 'to', train_df.index.max())\n",
    "print('Testing period:', test_df.index.min(), 'to', test_df.index.max())"
   ]
  },
  {
   "cell_type": "markdown",
   "id": "afecebfb",
   "metadata": {},
   "source": [
    "Data Loader"
   ]
  },
  {
   "cell_type": "code",
   "execution_count": 20,
   "id": "1b6b1503",
   "metadata": {},
   "outputs": [
    {
     "name": "stdout",
     "output_type": "stream",
     "text": [
      "Train sequences: 15648, Test sequences: 3895\n",
      "Batch X shape: torch.Size([64, 24, 33])\n",
      "Batch y shape: torch.Size([64, 1])\n"
     ]
    }
   ],
   "source": [
    "# Create a PyTorch Dataset and DataLoader for time-series sliding-window sequences\n",
    "class TimeSeriesDataset(Dataset):\n",
    "    def __init__(self, df, features, target, seq_len=24, scaler=None):\n",
    "        \"\"\"\n",
    "        df: pandas DataFrame with a datetime index\n",
    "        features: list of feature column names\n",
    "        target: target column name\n",
    "        seq_len: number of past timesteps to use\n",
    "        scaler: dict with keys 'X_mean','X_std','y_mean','y_std' for normalization (optional)\n",
    "        \"\"\"\n",
    "        self.seq_len = seq_len\n",
    "\n",
    "        X = df[features].values.astype(np.float32)\n",
    "        y = df[target].values.astype(np.float32).reshape(-1, 1)\n",
    "\n",
    "        # apply scaler if provided\n",
    "        if scaler is not None:\n",
    "            X = (X - scaler['X_mean']) / scaler['X_std']\n",
    "            y = (y - scaler['y_mean']) / scaler['y_std']\n",
    "\n",
    "        self.X_seqs, self.y_seqs = self._create_sequences(X, y, seq_len)\n",
    "\n",
    "    def _create_sequences(self, X, y, seq_len):\n",
    "        Xs, ys = [], []\n",
    "        for i in range(seq_len, len(X)):\n",
    "            Xs.append(X[i - seq_len:i])\n",
    "            ys.append(y[i])\n",
    "        if len(Xs) == 0:\n",
    "            return np.empty((0, seq_len, X.shape[1]), dtype=np.float32), np.empty((0, 1), dtype=np.float32)\n",
    "        return np.stack(Xs).astype(np.float32), np.stack(ys).astype(np.float32)\n",
    "\n",
    "    def __len__(self):\n",
    "        return len(self.X_seqs)\n",
    "\n",
    "    def __getitem__(self, idx):\n",
    "        return torch.from_numpy(self.X_seqs[idx]), torch.from_numpy(self.y_seqs[idx])\n",
    "\n",
    "# Build scaler from training data\n",
    "seq_len = 24\n",
    "batch_size = 64\n",
    "\n",
    "X_train = train_df[features].values.astype(np.float32)\n",
    "y_train = train_df[target].values.astype(np.float32).reshape(-1, 1)\n",
    "\n",
    "scaler = {\n",
    "    'X_mean': X_train.mean(axis=0),\n",
    "    'X_std':  X_train.std(axis=0) + 1e-8,\n",
    "    'y_mean': y_train.mean(),\n",
    "    'y_std':  y_train.std() + 1e-8\n",
    "}\n",
    "\n",
    "# Create datasets\n",
    "train_dataset = TimeSeriesDataset(train_df, features, target, seq_len=seq_len, scaler=scaler)\n",
    "test_dataset  = TimeSeriesDataset(test_df,  features, target, seq_len=seq_len, scaler=scaler)\n",
    "\n",
    "# Create DataLoaders\n",
    "train_loader = DataLoader(train_dataset, batch_size=batch_size, shuffle=True, drop_last=False)\n",
    "test_loader  = DataLoader(test_dataset,  batch_size=batch_size, shuffle=False, drop_last=False)\n",
    "\n",
    "# Print dataset sizes\n",
    "print(f\"Train sequences: {len(train_dataset)}, Test sequences: {len(test_dataset)}\")\n",
    "\n",
    "for batch_X, batch_y in train_loader:\n",
    "    print('Batch X shape:', batch_X.shape)\n",
    "    print('Batch y shape:', batch_y.shape)\n",
    "    break  # just show one batch"
   ]
  },
  {
   "cell_type": "markdown",
   "id": "1c2b2942",
   "metadata": {},
   "source": [
    "Define model"
   ]
  },
  {
   "cell_type": "code",
   "execution_count": 21,
   "id": "7b3ded3f",
   "metadata": {},
   "outputs": [
    {
     "name": "stdout",
     "output_type": "stream",
     "text": [
      "SimpleTransformer(\n",
      "  (input_proj): Linear(in_features=33, out_features=64, bias=True)\n",
      "  (transformer_encoder): TransformerEncoder(\n",
      "    (layers): ModuleList(\n",
      "      (0-1): 2 x TransformerEncoderLayer(\n",
      "        (self_attn): MultiheadAttention(\n",
      "          (out_proj): NonDynamicallyQuantizableLinear(in_features=64, out_features=64, bias=True)\n",
      "        )\n",
      "        (linear1): Linear(in_features=64, out_features=128, bias=True)\n",
      "        (dropout): Dropout(p=0.1, inplace=False)\n",
      "        (linear2): Linear(in_features=128, out_features=64, bias=True)\n",
      "        (norm1): LayerNorm((64,), eps=1e-05, elementwise_affine=True)\n",
      "        (norm2): LayerNorm((64,), eps=1e-05, elementwise_affine=True)\n",
      "        (dropout1): Dropout(p=0.1, inplace=False)\n",
      "        (dropout2): Dropout(p=0.1, inplace=False)\n",
      "      )\n",
      "    )\n",
      "  )\n",
      "  (dropout): Dropout(p=0.1, inplace=False)\n",
      "  (fc): Linear(in_features=64, out_features=1, bias=True)\n",
      ")\n",
      "Trainable parameters: 69185\n"
     ]
    },
    {
     "name": "stderr",
     "output_type": "stream",
     "text": [
      "/Users/ruiling/PythonProjects/Foundation_of_AI/Appliances-Energy-Consumption-Forecasting-Using-Time-Series-Machine-Learning/.venv/lib/python3.9/site-packages/torch/nn/modules/transformer.py:392: UserWarning: enable_nested_tensor is True, but self.use_nested_tensor is False because encoder_layer.self_attn.batch_first was not True(use batch_first for better inference performance)\n",
      "  warnings.warn(\n"
     ]
    }
   ],
   "source": [
    "# Simple Transformer model for time series forecasting\n",
    "class SimpleTransformer(nn.Module):\n",
    "    def __init__(self, input_size, d_model=64, nhead=4, num_layers=2, dim_feedforward=128, dropout=0.1):\n",
    "        super(SimpleTransformer, self).__init__()\n",
    "        self.input_proj = nn.Linear(input_size, d_model)\n",
    "        encoder_layer = nn.TransformerEncoderLayer(d_model=d_model, nhead=nhead, dim_feedforward=dim_feedforward, dropout=dropout)\n",
    "        self.transformer_encoder = nn.TransformerEncoder(encoder_layer, num_layers=num_layers)\n",
    "        self.dropout = nn.Dropout(dropout)\n",
    "        self.fc = nn.Linear(d_model, 1)  # predict a single value\n",
    "\n",
    "    def forward(self, x):\n",
    "        x = self.input_proj(x)  # (batch, seq_len, d_model)\n",
    "        x = x.permute(1, 0, 2)  # Transformer expects (seq_len, batch, d_model)\n",
    "        transformer_out = self.transformer_encoder(x)  # (seq_len, batch, d_model)\n",
    "        last_out = transformer_out[-1]  # (batch, d_model)\n",
    "        out = self.dropout(last_out)\n",
    "        out = self.fc(out)  # (batch, 1)\n",
    "        return out\n",
    "    \n",
    "# instantiate model, loss and optimizer for a quick test\n",
    "input_size = len(features)\n",
    "model = SimpleTransformer(input_size=input_size).to(device)\n",
    "\n",
    "criterion = nn.MSELoss()\n",
    "optimizer = optim.Adam(model.parameters(), lr=1e-3)\n",
    "\n",
    "\n",
    "# utility: print model summary and parameter count\n",
    "def count_parameters(m):\n",
    "    return sum(p.numel() for p in m.parameters() if p.requires_grad)\n",
    "\n",
    "print(model)\n",
    "print(f\"Trainable parameters: {count_parameters(model)}\")"
   ]
  },
  {
   "cell_type": "markdown",
   "id": "b47f502d",
   "metadata": {},
   "source": [
    "Optimiser and loss function"
   ]
  },
  {
   "cell_type": "code",
   "execution_count": 22,
   "id": "eb35c107",
   "metadata": {},
   "outputs": [],
   "source": [
    "optimizer = optim.Adam(model.parameters(), lr=1e-4)\n",
    "loss_fn = nn.MSELoss()"
   ]
  },
  {
   "cell_type": "markdown",
   "id": "3a8b62f2",
   "metadata": {},
   "source": [
    "Train and test"
   ]
  },
  {
   "cell_type": "code",
   "execution_count": 23,
   "id": "79f651d2",
   "metadata": {},
   "outputs": [
    {
     "name": "stdout",
     "output_type": "stream",
     "text": [
      "Saved best model to ../models/best_transformer.pth (Test Loss: 0.5285)\n",
      "Epoch 01: Train Loss: 0.7993, Test Loss: 0.5285\n",
      "Saved best model to ../models/best_transformer.pth (Test Loss: 0.5142)\n",
      "Epoch 02: Train Loss: 0.6927, Test Loss: 0.5142\n",
      "Saved best model to ../models/best_transformer.pth (Test Loss: 0.5067)\n",
      "Epoch 03: Train Loss: 0.6760, Test Loss: 0.5067\n",
      "Epoch 04: Train Loss: 0.6607, Test Loss: 0.5086\n",
      "Epoch 05: Train Loss: 0.6513, Test Loss: 0.5092\n",
      "Saved best model to ../models/best_transformer.pth (Test Loss: 0.5002)\n",
      "Epoch 06: Train Loss: 0.6376, Test Loss: 0.5002\n",
      "Epoch 07: Train Loss: 0.6370, Test Loss: 0.5024\n",
      "Epoch 08: Train Loss: 0.6270, Test Loss: 0.5047\n",
      "Saved best model to ../models/best_transformer.pth (Test Loss: 0.4965)\n",
      "Epoch 09: Train Loss: 0.6187, Test Loss: 0.4965\n",
      "Epoch 10: Train Loss: 0.6147, Test Loss: 0.5044\n",
      "Epoch 11: Train Loss: 0.6089, Test Loss: 0.4978\n",
      "Epoch 12: Train Loss: 0.6039, Test Loss: 0.4977\n",
      "Epoch 13: Train Loss: 0.5956, Test Loss: 0.4968\n",
      "Epoch 14: Train Loss: 0.5897, Test Loss: 0.5099\n",
      "Epoch 15: Train Loss: 0.5888, Test Loss: 0.5119\n",
      "Epoch 16: Train Loss: 0.5829, Test Loss: 0.5059\n",
      "Epoch 17: Train Loss: 0.5761, Test Loss: 0.5047\n",
      "Epoch 18: Train Loss: 0.5698, Test Loss: 0.5205\n",
      "Epoch 19: Train Loss: 0.5662, Test Loss: 0.5133\n",
      "Epoch 20: Train Loss: 0.5610, Test Loss: 0.5069\n"
     ]
    }
   ],
   "source": [
    "best_test_loss = float('inf')\n",
    "save_path = os.path.join('..', 'models', 'best_transformer.pth')\n",
    "os.makedirs(os.path.dirname(save_path), exist_ok=True)\n",
    "\n",
    "for epoch in range(1, 21):\n",
    "    model.train()\n",
    "    train_losses = []\n",
    "    for X_batch, y_batch in train_loader:\n",
    "        X_batch, y_batch = X_batch.to(device), y_batch.to(device)\n",
    "\n",
    "        optimizer.zero_grad()\n",
    "        y_pred = model(X_batch)\n",
    "        loss = loss_fn(y_pred, y_batch)\n",
    "        loss.backward()\n",
    "        optimizer.step()\n",
    "\n",
    "        train_losses.append(loss.item())\n",
    "\n",
    "    avg_train_loss = np.mean(train_losses)\n",
    "\n",
    "    # Evaluation on test set\n",
    "    model.eval()\n",
    "    test_losses = []\n",
    "    with torch.no_grad():\n",
    "        for X_batch, y_batch in test_loader:\n",
    "            X_batch, y_batch = X_batch.to(device), y_batch.to(device)\n",
    "            y_pred = model(X_batch)\n",
    "            loss = loss_fn(y_pred, y_batch)\n",
    "            test_losses.append(loss.item())\n",
    "\n",
    "    avg_test_loss = np.mean(test_losses)\n",
    "\n",
    "    # Save best model\n",
    "    if avg_test_loss < best_test_loss:\n",
    "        best_test_loss = avg_test_loss\n",
    "        torch.save({\n",
    "            'epoch': epoch,\n",
    "            'model_state_dict': model.state_dict(),\n",
    "            'optimizer_state_dict': optimizer.state_dict(),\n",
    "            'loss': best_test_loss,\n",
    "            'scaler': scaler\n",
    "        }, save_path)\n",
    "        print(f\"Saved best model to {save_path} (Test Loss: {best_test_loss:.4f})\")\n",
    "\n",
    "    print(f\"Epoch {epoch:02d}: Train Loss: {avg_train_loss:.4f}, Test Loss: {avg_test_loss:.4f}\")"
   ]
  },
  {
   "cell_type": "markdown",
   "id": "d4231b94",
   "metadata": {},
   "source": [
    "Final test"
   ]
  },
  {
   "cell_type": "code",
   "execution_count": 24,
   "id": "f05a04a0",
   "metadata": {},
   "outputs": [
    {
     "name": "stderr",
     "output_type": "stream",
     "text": [
      "/Users/ruiling/PythonProjects/Foundation_of_AI/Appliances-Energy-Consumption-Forecasting-Using-Time-Series-Machine-Learning/.venv/lib/python3.9/site-packages/torch/nn/modules/transformer.py:392: UserWarning: enable_nested_tensor is True, but self.use_nested_tensor is False because encoder_layer.self_attn.batch_first was not True(use batch_first for better inference performance)\n",
      "  warnings.warn(\n"
     ]
    },
    {
     "name": "stdout",
     "output_type": "stream",
     "text": [
      "Transformer Model Test Results:\n",
      "MSE: 5517.9722\n",
      "RMSE: 74.2831\n",
      "MAE: 38.0774\n",
      "R2: 0.2712\n"
     ]
    }
   ],
   "source": [
    "model = SimpleTransformer(input_size=input_size)\n",
    "\n",
    "# Load the best model\n",
    "save_path = os.path.join('..', 'models', 'best_transformer.pth')\n",
    "checkpoint = torch.load(save_path, map_location=device, weights_only=False)\n",
    "model.load_state_dict(checkpoint['model_state_dict'])\n",
    "model.to(device)\n",
    "model.eval()\n",
    "\n",
    "all_preds = []\n",
    "all_targets = []\n",
    "with torch.no_grad():\n",
    "    for X_batch, y_batch in test_loader:\n",
    "        X_batch, y_batch = X_batch.to(device), y_batch.to(device)\n",
    "        y_pred = model(X_batch)\n",
    "        \n",
    "        all_preds.append(y_pred.cpu().numpy())\n",
    "        all_targets.append(y_batch.cpu().numpy())\n",
    "\n",
    "model_results = {}\n",
    "# Calculate metrics\n",
    "all_preds = np.vstack(all_preds).flatten()\n",
    "all_targets = np.vstack(all_targets).flatten()\n",
    "# Inverse scaling\n",
    "all_preds_rescaled = all_preds * scaler['y_std'] + scaler['y_mean']\n",
    "all_targets_rescaled = all_targets * scaler['y_std'] + scaler['y_mean']\n",
    "mse = mean_squared_error(all_targets_rescaled, all_preds_rescaled)\n",
    "rmse = root_mean_squared_error(all_targets_rescaled, all_preds_rescaled)\n",
    "mae = mean_absolute_error(all_targets_rescaled, all_preds_rescaled)\n",
    "r2 = r2_score(all_targets_rescaled, all_preds_rescaled)\n",
    "model_results['MSE'] = mse\n",
    "model_results['RMSE'] = rmse\n",
    "model_results['MAE'] = mae\n",
    "model_results['R2'] = r2\n",
    "\n",
    "print(\"Transformer Model Test Results:\")\n",
    "for k, v in model_results.items():\n",
    "    print(f\"{k}: {v:.4f}\")"
   ]
  },
  {
   "cell_type": "markdown",
   "id": "180b1824",
   "metadata": {},
   "source": [
    "Plot"
   ]
  },
  {
   "cell_type": "code",
   "execution_count": null,
   "id": "ba60586e",
   "metadata": {},
   "outputs": [],
   "source": [
    "# plot predictions vs actuals\n",
    "plt.figure(figsize=(15,6))\n",
    "plt.plot(all_targets_rescaled, label='Actual', alpha=0.7)\n",
    "plt.plot(all_preds_rescaled, label='Predicted', alpha=0.7)\n",
    "plt.title('LSTM Model: Actual vs Predicted Appliances Energy Consumption')\n",
    "plt.xlabel('Time Steps')\n",
    "plt.ylabel('Appliances Energy Consumption')\n",
    "plt.legend()\n",
    "plt.show()"
   ]
  },
  {
   "cell_type": "markdown",
   "id": "b88e9214",
   "metadata": {},
   "source": [
    "Write prediction results into a csv file"
   ]
  },
  {
   "cell_type": "code",
   "execution_count": 25,
   "id": "33ad005d",
   "metadata": {},
   "outputs": [],
   "source": [
    "results_df = pd.DataFrame({\n",
    "    'true': all_targets_rescaled,\n",
    "    'prediction': all_preds_rescaled\n",
    "})\n",
    "results_df.to_csv(\"../results/transformer_predictions.csv\", index=False)"
   ]
  }
 ],
 "metadata": {
  "kernelspec": {
   "display_name": ".venv",
   "language": "python",
   "name": "python3"
  },
  "language_info": {
   "codemirror_mode": {
    "name": "ipython",
    "version": 3
   },
   "file_extension": ".py",
   "mimetype": "text/x-python",
   "name": "python",
   "nbconvert_exporter": "python",
   "pygments_lexer": "ipython3",
   "version": "3.9.6"
  }
 },
 "nbformat": 4,
 "nbformat_minor": 5
}
