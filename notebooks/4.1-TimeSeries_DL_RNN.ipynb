{
 "cells": [
  {
   "cell_type": "markdown",
   "id": "ea91189f",
   "metadata": {},
   "source": [
    "Import packages"
   ]
  },
  {
   "cell_type": "code",
   "execution_count": null,
   "id": "bdd8c910",
   "metadata": {},
   "outputs": [
    {
     "name": "stdout",
     "output_type": "stream",
     "text": [
      "Using device: mps\n"
     ]
    }
   ],
   "source": [
    "import os\n",
    "import numpy as np\n",
    "import pandas as pd\n",
    "import seaborn as sns\n",
    "import matplotlib.pyplot as plt\n",
    "\n",
    "# Deep learning for time series\n",
    "import torch\n",
    "import torch.nn as nn\n",
    "import torch.optim as optim\n",
    "from torch.utils.data import Dataset, DataLoader\n",
    "\n",
    "# Plotting\n",
    "sns.set_style(\"whitegrid\")\n",
    "plt.rcParams['figure.figsize'] = (15, 8)\n",
    "plt.rcParams['font.size'] = 12\n",
    "plt.rcParams['font.family'] = 'Times New Roman'\n",
    "\n",
    "# device (mps or cuda)\n",
    "device = torch.device(\"mps\" if torch.backends.mps.is_available() else \"cuda\" if torch.cuda.is_available() else \"cpu\")\n",
    "print(f\"Using device: {device}\")"
   ]
  },
  {
   "cell_type": "markdown",
   "id": "c18403f6",
   "metadata": {},
   "source": [
    "Data preparation"
   ]
  },
  {
   "cell_type": "code",
   "execution_count": 12,
   "id": "7b85d493",
   "metadata": {},
   "outputs": [
    {
     "name": "stdout",
     "output_type": "stream",
     "text": [
      "Data shape:  (19591, 38)\n",
      "Date range: 2016-01-12 17:00:00 to 2016-05-27 18:00:00\n",
      "Feature number:  33\n",
      "Training data shape:  (15672, 38)\n",
      "Testing data shape:  (3919, 38)\n",
      "Training period: 2016-01-12 17:00:00 to 2016-04-30 12:50:00\n",
      "Testing period: 2016-04-30 13:00:00 to 2016-05-27 18:00:00\n",
      "\n",
      "Prophet training data shape: (15672, 39)\n",
      "Prophet testing data shape: (3919, 39)\n"
     ]
    }
   ],
   "source": [
    "# Load and prepare data\n",
    "df = pd.read_csv('../data/energydata_complete_cleaned.csv', parse_dates=['date'], index_col='date')\n",
    "df.sort_index(inplace=True)\n",
    "print('Data shape: ', df.shape)\n",
    "print('Date range:', df.index.min(), 'to', df.index.max())\n",
    "\n",
    "# Define features and target variable\n",
    "features = ['lights', 'T1', 'RH_1', 'T2', 'RH_2', 'T3', 'RH_3', 'T4', 'RH_4', \n",
    "            'T5', 'RH_5', 'T6', 'RH_6', 'T7', 'RH_7', 'T8', 'RH_8', 'T9', \n",
    "            'RH_9', 'T_out', 'Press_mm_hg', 'RH_out', 'Windspeed', \n",
    "            'Visibility', 'Tdewpoint', 'rv1', \n",
    "            'is_weekend', 'hour_sin', 'hour_cos', 'day_of_week_sin', \n",
    "            'day_of_week_cos', 'Appliances_lag1', 'Appliances_rolling_mean_6']\n",
    "target = 'Appliances'\n",
    "print('Feature number: ', len(features))\n",
    "\n",
    "# For time series models, we'll use chronological split\n",
    "train_size = int(len(df) * 0.8)\n",
    "train_df = df.iloc[:train_size].copy()\n",
    "test_df = df.iloc[train_size:].copy()\n",
    "\n",
    "print('Training data shape: ', train_df.shape)\n",
    "print('Testing data shape: ', test_df.shape)\n",
    "print('Training period:', train_df.index.min(), 'to', train_df.index.max())\n",
    "print('Testing period:', test_df.index.min(), 'to', test_df.index.max())\n",
    "\n",
    "# Prepare Prophet format data\n",
    "prophet_train = train_df.reset_index().rename(columns={'date': 'ds', target: 'y'})#[['ds', 'y']]\n",
    "prophet_test = test_df.reset_index().rename(columns={'date': 'ds', target: 'y'})#[['ds', 'y']]\n",
    "\n",
    "print('\\nProphet training data shape:', prophet_train.shape)\n",
    "print('Prophet testing data shape:', prophet_test.shape)"
   ]
  },
  {
   "cell_type": "markdown",
   "id": "ab410faf",
   "metadata": {},
   "source": [
    "Data Loader"
   ]
  },
  {
   "cell_type": "code",
   "execution_count": 13,
   "id": "ffcf2b31",
   "metadata": {},
   "outputs": [
    {
     "name": "stdout",
     "output_type": "stream",
     "text": [
      "Train sequences: 15648, Test sequences: 3895\n"
     ]
    }
   ],
   "source": [
    "# Create a PyTorch Dataset and DataLoader for time-series sliding-window sequences\n",
    "class TimeSeriesDataset(Dataset):\n",
    "    def __init__(self, df, features, target, seq_len=24, scaler=None):\n",
    "        \"\"\"\n",
    "        df: pandas DataFrame with a datetime index\n",
    "        features: list of feature column names\n",
    "        target: target column name\n",
    "        seq_len: number of past timesteps to use\n",
    "        scaler: dict with keys 'X_mean','X_std','y_mean','y_std' for normalization (optional)\n",
    "        \"\"\"\n",
    "        self.seq_len = seq_len\n",
    "\n",
    "        X = df[features].values.astype(np.float32)\n",
    "        y = df[target].values.astype(np.float32).reshape(-1, 1)\n",
    "\n",
    "        # apply scaler if provided\n",
    "        if scaler is not None:\n",
    "            X = (X - scaler['X_mean']) / scaler['X_std']\n",
    "            y = (y - scaler['y_mean']) / scaler['y_std']\n",
    "\n",
    "        self.X_seqs, self.y_seqs = self._create_sequences(X, y, seq_len)\n",
    "\n",
    "    def _create_sequences(self, X, y, seq_len):\n",
    "        Xs, ys = [], []\n",
    "        for i in range(seq_len, len(X)):\n",
    "            Xs.append(X[i - seq_len:i])\n",
    "            ys.append(y[i])\n",
    "        if len(Xs) == 0:\n",
    "            return np.empty((0, seq_len, X.shape[1]), dtype=np.float32), np.empty((0, 1), dtype=np.float32)\n",
    "        return np.stack(Xs).astype(np.float32), np.stack(ys).astype(np.float32)\n",
    "\n",
    "    def __len__(self):\n",
    "        return len(self.X_seqs)\n",
    "\n",
    "    def __getitem__(self, idx):\n",
    "        return torch.from_numpy(self.X_seqs[idx]), torch.from_numpy(self.y_seqs[idx])\n",
    "\n",
    "# Build scaler from training data\n",
    "seq_len = 24             # adjust as needed\n",
    "batch_size = 64          # adjust as needed\n",
    "\n",
    "X_train = train_df[features].values.astype(np.float32)\n",
    "y_train = train_df[target].values.astype(np.float32).reshape(-1, 1)\n",
    "\n",
    "scaler = {\n",
    "    'X_mean': X_train.mean(axis=0),\n",
    "    'X_std':  X_train.std(axis=0) + 1e-8,\n",
    "    'y_mean': y_train.mean(),\n",
    "    'y_std':  y_train.std() + 1e-8\n",
    "}\n",
    "\n",
    "# Create datasets\n",
    "train_dataset = TimeSeriesDataset(train_df, features, target, seq_len=seq_len, scaler=scaler)\n",
    "test_dataset  = TimeSeriesDataset(test_df,  features, target, seq_len=seq_len, scaler=scaler)\n",
    "\n",
    "# Create DataLoaders\n",
    "train_loader = DataLoader(train_dataset, batch_size=batch_size, shuffle=True, drop_last=False)\n",
    "test_loader  = DataLoader(test_dataset,  batch_size=batch_size, shuffle=False, drop_last=False)\n",
    "\n",
    "# Print dataset sizes\n",
    "print(f\"Train sequences: {len(train_dataset)}, Test sequences: {len(test_dataset)}\")"
   ]
  },
  {
   "cell_type": "markdown",
   "id": "c128a077",
   "metadata": {},
   "source": [
    "Define model"
   ]
  },
  {
   "cell_type": "code",
   "execution_count": 14,
   "id": "3cae1bed",
   "metadata": {},
   "outputs": [
    {
     "name": "stdout",
     "output_type": "stream",
     "text": [
      "SimpleRNN(\n",
      "  (rnn): RNN(33, 64, batch_first=True, dropout=0.1)\n",
      "  (dropout): Dropout(p=0.1, inplace=False)\n",
      "  (fc): Linear(in_features=64, out_features=1, bias=True)\n",
      ")\n",
      "Trainable parameters: 6401\n"
     ]
    },
    {
     "name": "stderr",
     "output_type": "stream",
     "text": [
      "/Users/ruiling/PythonProjects/Foundation_of_AI/Appliances-Energy-Consumption-Forecasting-Using-Time-Series-Machine-Learning/.venv/lib/python3.9/site-packages/torch/nn/modules/rnn.py:123: UserWarning: dropout option adds dropout after all but last recurrent layer, so non-zero dropout expects num_layers greater than 1, but got dropout=0.1 and num_layers=1\n",
      "  warnings.warn(\n"
     ]
    }
   ],
   "source": [
    "# Simple RNN model for quick testing\n",
    "class SimpleRNN(nn.Module):\n",
    "    def __init__(self, input_size, hidden_size=64, num_layers=1, rnn_type='rnn', dropout=0.1):\n",
    "        super(SimpleRNN, self).__init__()\n",
    "        self.rnn = nn.RNN(input_size, hidden_size, num_layers, batch_first=True, nonlinearity='relu', dropout=dropout)\n",
    "        self.dropout = nn.Dropout(dropout)\n",
    "        self.fc = nn.Linear(hidden_size, 1)  # predict a single value\n",
    "\n",
    "    def forward(self, x):\n",
    "        rnn_out, hidden = self.rnn(x)  # rnn_out: (batch, seq_len, hidden); hidden depends on rnn type\n",
    "        h_n = hidden    # hidden = h_n\n",
    "        last_h = h_n[-1]    # (batch, hidden)\n",
    "        out = self.dropout(last_h)\n",
    "        out = self.fc(out)  # (batch, 1)\n",
    "        return out\n",
    "\n",
    "# instantiate model, loss and optimizer for a quick test\n",
    "input_size = len(features)        # uses features defined in earlier cell\n",
    "hidden_size = 64\n",
    "num_layers = 1\n",
    "model = SimpleRNN(input_size=input_size, hidden_size=hidden_size, num_layers=num_layers, rnn_type='lstm', dropout=0.1)\n",
    "\n",
    "model.to(device)\n",
    "\n",
    "criterion = nn.MSELoss()\n",
    "optimizer = optim.Adam(model.parameters(), lr=1e-3)\n",
    "\n",
    "# utility: print model summary and parameter count\n",
    "def count_parameters(m):\n",
    "    return sum(p.numel() for p in m.parameters() if p.requires_grad)\n",
    "\n",
    "print(model)\n",
    "print(f\"Trainable parameters: {count_parameters(model)}\")"
   ]
  },
  {
   "cell_type": "markdown",
   "id": "5ccc566e",
   "metadata": {},
   "source": [
    "Train and test"
   ]
  },
  {
   "cell_type": "code",
   "execution_count": 15,
   "id": "b5ced9ca",
   "metadata": {},
   "outputs": [],
   "source": [
    "optimizer = optim.Adam(model.parameters(), lr=1e-3)\n",
    "loss_fn = nn.MSELoss()"
   ]
  },
  {
   "cell_type": "code",
   "execution_count": null,
   "id": "bcaa3be6",
   "metadata": {},
   "outputs": [
    {
     "name": "stdout",
     "output_type": "stream",
     "text": [
      "Epoch 01: Train Loss: 0.7063, Test Loss: 0.5703\n",
      "Epoch 02: Train Loss: 0.6397, Test Loss: 0.5833\n",
      "Epoch 03: Train Loss: 0.6205, Test Loss: 0.5052\n",
      "Epoch 04: Train Loss: 0.6094, Test Loss: 0.4830\n",
      "Epoch 05: Train Loss: 0.5910, Test Loss: 0.4841\n",
      "Epoch 06: Train Loss: 0.5817, Test Loss: 0.5261\n",
      "Epoch 07: Train Loss: 0.5677, Test Loss: 0.5481\n",
      "Epoch 08: Train Loss: 0.5499, Test Loss: 0.5223\n",
      "Epoch 09: Train Loss: 0.5332, Test Loss: 0.5620\n",
      "Epoch 10: Train Loss: 0.5218, Test Loss: 0.5726\n",
      "Epoch 11: Train Loss: 0.5054, Test Loss: 0.5123\n",
      "Epoch 12: Train Loss: 0.4835, Test Loss: 0.5848\n",
      "Epoch 13: Train Loss: 0.4766, Test Loss: 0.5131\n",
      "Epoch 14: Train Loss: 0.4559, Test Loss: 0.5486\n",
      "Epoch 15: Train Loss: 0.4457, Test Loss: 0.6248\n",
      "Epoch 16: Train Loss: 0.4294, Test Loss: 0.5764\n",
      "Epoch 17: Train Loss: 0.4091, Test Loss: 0.7588\n",
      "Epoch 18: Train Loss: 0.4037, Test Loss: 0.5968\n",
      "Epoch 19: Train Loss: 0.3852, Test Loss: 1.1237\n",
      "Epoch 20: Train Loss: 0.3837, Test Loss: 0.5762\n"
     ]
    }
   ],
   "source": [
    "best_test_loss = float('inf')\n",
    "save_path = os.path.join('..', 'models', 'best_rnn.pth')\n",
    "os.makedirs(os.path.dirname(save_path), exist_ok=True)\n",
    "\n",
    "for epoch in range(1, 21):\n",
    "    model.train()\n",
    "    train_losses = []\n",
    "    for X_batch, y_batch in train_loader:\n",
    "        X_batch, y_batch = X_batch.to(device), y_batch.to(device)\n",
    "\n",
    "        optimizer.zero_grad()\n",
    "        y_pred = model(X_batch)\n",
    "        loss = loss_fn(y_pred, y_batch)\n",
    "        loss.backward()\n",
    "        optimizer.step()\n",
    "\n",
    "        train_losses.append(loss.item())\n",
    "\n",
    "    avg_train_loss = np.mean(train_losses)\n",
    "\n",
    "    # Evaluation on test set\n",
    "    model.eval()\n",
    "    test_losses = []\n",
    "    with torch.no_grad():\n",
    "        for X_batch, y_batch in test_loader:\n",
    "            X_batch, y_batch = X_batch.to(device), y_batch.to(device)\n",
    "            y_pred = model(X_batch)\n",
    "            loss = loss_fn(y_pred, y_batch)\n",
    "            test_losses.append(loss.item())\n",
    "\n",
    "    avg_test_loss = np.mean(test_losses)\n",
    "\n",
    "    # Save best model\n",
    "    if avg_test_loss < best_test_loss:\n",
    "        best_test_loss = avg_test_loss\n",
    "        torch.save({\n",
    "            'epoch': epoch,\n",
    "            'model_state_dict': model.state_dict(),\n",
    "            'optimizer_state_dict': optimizer.state_dict(),\n",
    "            'loss': best_test_loss,\n",
    "            'scaler': scaler\n",
    "        }, save_path)\n",
    "        print(f\"Saved best model to {save_path} (Test Loss: {best_test_loss:.4f})\")\n",
    "\n",
    "    print(f\"Epoch {epoch:02d}: Train Loss: {avg_train_loss:.4f}, Test Loss: {avg_test_loss:.4f}\")"
   ]
  },
  {
   "cell_type": "markdown",
   "id": "7fb1f272",
   "metadata": {},
   "source": [
    "Final test"
   ]
  },
  {
   "cell_type": "code",
   "execution_count": null,
   "id": "1ddc9e09",
   "metadata": {},
   "outputs": [],
   "source": []
  },
  {
   "cell_type": "code",
   "execution_count": null,
   "id": "132af20c",
   "metadata": {},
   "outputs": [],
   "source": []
  }
 ],
 "metadata": {
  "kernelspec": {
   "display_name": ".venv",
   "language": "python",
   "name": "python3"
  },
  "language_info": {
   "codemirror_mode": {
    "name": "ipython",
    "version": 3
   },
   "file_extension": ".py",
   "mimetype": "text/x-python",
   "name": "python",
   "nbconvert_exporter": "python",
   "pygments_lexer": "ipython3",
   "version": "3.9.6"
  }
 },
 "nbformat": 4,
 "nbformat_minor": 5
}
