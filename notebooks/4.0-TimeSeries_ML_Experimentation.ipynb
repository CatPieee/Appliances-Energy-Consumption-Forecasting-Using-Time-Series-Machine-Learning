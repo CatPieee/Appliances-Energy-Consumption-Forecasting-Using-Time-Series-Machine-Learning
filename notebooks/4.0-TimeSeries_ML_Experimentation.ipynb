{
 "cells": [
  {
   "cell_type": "markdown",
   "id": "87ff7ec5",
   "metadata": {},
   "source": [
    "Import packages"
   ]
  },
  {
   "cell_type": "code",
   "execution_count": null,
   "id": "987877fc",
   "metadata": {},
   "outputs": [],
   "source": [
    "import numpy as np\n",
    "import pandas as pd\n",
    "import seaborn as sns\n",
    "import matplotlib.pyplot as plt\n",
    "\n",
    "from prophet import Prophet\n",
    "\n",
    "from sklearn.model_selection import train_test_split\n",
    "from sklearn.metrics import mean_squared_error, mean_absolute_error, r2_score\n",
    "\n",
    "sns.set_style(\"whitegrid\")\n",
    "plt.rcParams['figure.figsize'] = (12, 6) # default figure size\n",
    "plt.rcParams['font.size'] = 12           # default font size\n",
    "plt.rcParams['font.family'] = 'Times New Roman'"
   ]
  }
 ],
 "metadata": {
  "language_info": {
   "name": "python"
  }
 },
 "nbformat": 4,
 "nbformat_minor": 5
}
