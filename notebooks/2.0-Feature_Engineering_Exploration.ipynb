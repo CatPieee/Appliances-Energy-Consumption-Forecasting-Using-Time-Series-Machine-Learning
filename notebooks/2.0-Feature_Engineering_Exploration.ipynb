{
 "cells": [
  {
   "cell_type": "code",
   "execution_count": 33,
   "id": "2d115bf1",
   "metadata": {},
   "outputs": [],
   "source": [
    "import numpy as np\n",
    "import pandas as pd\n",
    "import matplotlib.pyplot as plt\n",
    "import seaborn as sns\n",
    "\n",
    "sns.set_style(\"whitegrid\")\n",
    "plt.rcParams['figure.figsize'] = (12, 6) # default figure size\n",
    "plt.rcParams['font.size'] = 12           # default font size\n",
    "plt.rcParams['font.family'] = 'Times New Roman'"
   ]
  },
  {
   "cell_type": "code",
   "execution_count": 34,
   "id": "b2cb0868",
   "metadata": {},
   "outputs": [],
   "source": [
    "data_path = '../data/energydata_complete_raw.csv'\n",
    "\n",
    "df = pd.read_csv(data_path)"
   ]
  },
  {
   "cell_type": "markdown",
   "id": "9480daec",
   "metadata": {},
   "source": [
    "Remove rv1 and rv2"
   ]
  },
  {
   "cell_type": "code",
   "execution_count": 35,
   "id": "1e23df01",
   "metadata": {},
   "outputs": [],
   "source": [
    "df = df.drop(columns=['rv1', 'rv2'], errors='ignore')"
   ]
  },
  {
   "cell_type": "markdown",
   "id": "232bcfa6",
   "metadata": {},
   "source": [
    "Time feature extraction\n",
    "1. hour\n",
    "2. day_of_week\n",
    "3. is_weekend\n",
    "4. hour_sin\n",
    "5. hour_cos\n",
    "6. day_of_week_sin\n",
    "7. day_of_week_cos"
   ]
  },
  {
   "cell_type": "code",
   "execution_count": 36,
   "id": "c1d49d62",
   "metadata": {},
   "outputs": [],
   "source": [
    "date_format = \"%d-%m-%Y %H:%M\"\n",
    "df['date'] = pd.to_datetime(df['date'], format=date_format, errors='raise')\n",
    "df['hour_of_day'] = df['date'].dt.hour\n",
    "df['day_of_week'] = df['date'].dt.dayofweek     # Monday:0, Sunday:6\n",
    "df['is_weekend'] = df['day_of_week'].isin([5, 6]).astype(int)\n",
    "df['hour_sin'] = np.sin(2 * np.pi * df['hour_of_day'] / 24)\n",
    "df['hour_cos'] = np.cos(2 * np.pi * df['hour_of_day'] / 24)\n",
    "df['day_of_week_sin'] = np.sin(2 * np.pi * df['day_of_week'] / 7)\n",
    "df['day_of_week_cos'] = np.cos(2 * np.pi * df['day_of_week'] / 7)"
   ]
  },
  {
   "cell_type": "markdown",
   "id": "8bb36389",
   "metadata": {},
   "source": [
    "Lag feature"
   ]
  },
  {
   "cell_type": "code",
   "execution_count": null,
   "id": "779bc355",
   "metadata": {},
   "outputs": [],
   "source": [
    "df['Appliances_lag1'] = df['Appliances'].shift(1)\n",
    "# df['Appliances_lag144'] = df['Appliances'].shift(144) # lag of 1 day (144 half-hour intervals)\n",
    "df['T_out_lag1'] = df['T_out'].shift(1)"
   ]
  },
  {
   "cell_type": "markdown",
   "id": "ce1d4458",
   "metadata": {},
   "source": [
    "Rolling statistical feature"
   ]
  },
  {
   "cell_type": "code",
   "execution_count": 38,
   "id": "95992361",
   "metadata": {},
   "outputs": [],
   "source": [
    "df['Appliances_rolling_mean_6'] = df['Appliances'].rolling(window=6).mean().shift(1)"
   ]
  },
  {
   "cell_type": "markdown",
   "id": "ca0b328a",
   "metadata": {},
   "source": [
    "Data export"
   ]
  },
  {
   "cell_type": "code",
   "execution_count": 39,
   "id": "1344656b",
   "metadata": {},
   "outputs": [
    {
     "name": "stdout",
     "output_type": "stream",
     "text": [
      "                 date  Appliances  lights     T1       RH_1    T2       RH_2  \\\n",
      "0 2016-01-11 17:00:00          60      30  19.89  47.596667  19.2  44.790000   \n",
      "1 2016-01-11 17:10:00          60      30  19.89  46.693333  19.2  44.722500   \n",
      "2 2016-01-11 17:20:00          50      30  19.89  46.300000  19.2  44.626667   \n",
      "3 2016-01-11 17:30:00          50      40  19.89  46.066667  19.2  44.590000   \n",
      "4 2016-01-11 17:40:00          60      40  19.89  46.333333  19.2  44.530000   \n",
      "\n",
      "      T3       RH_3         T4  ...  day_of_week  is_weekend  hour_sin  \\\n",
      "0  19.79  44.730000  19.000000  ...            0           0 -0.965926   \n",
      "1  19.79  44.790000  19.000000  ...            0           0 -0.965926   \n",
      "2  19.79  44.933333  18.926667  ...            0           0 -0.965926   \n",
      "3  19.79  45.000000  18.890000  ...            0           0 -0.965926   \n",
      "4  19.79  45.000000  18.890000  ...            0           0 -0.965926   \n",
      "\n",
      "   hour_cos  day_of_week_sin  day_of_week_cos  Appliances_lag1  \\\n",
      "0 -0.258819              0.0              1.0              NaN   \n",
      "1 -0.258819              0.0              1.0             60.0   \n",
      "2 -0.258819              0.0              1.0             60.0   \n",
      "3 -0.258819              0.0              1.0             50.0   \n",
      "4 -0.258819              0.0              1.0             50.0   \n",
      "\n",
      "   Appliances_lag144  T_out_lag1  Appliances_rolling_mean_6  \n",
      "0                NaN         NaN                        NaN  \n",
      "1                NaN        6.60                        NaN  \n",
      "2                NaN        6.48                        NaN  \n",
      "3                NaN        6.37                        NaN  \n",
      "4                NaN        6.25                        NaN  \n",
      "\n",
      "[5 rows x 38 columns]\n"
     ]
    }
   ],
   "source": [
    "print(df.head())\n",
    "\n",
    "df.to_csv('../data/energydata_complete_cleaned.csv', index=False)"
   ]
  }
 ],
 "metadata": {
  "kernelspec": {
   "display_name": ".venv",
   "language": "python",
   "name": "python3"
  },
  "language_info": {
   "codemirror_mode": {
    "name": "ipython",
    "version": 3
   },
   "file_extension": ".py",
   "mimetype": "text/x-python",
   "name": "python",
   "nbconvert_exporter": "python",
   "pygments_lexer": "ipython3",
   "version": "3.13.2"
  }
 },
 "nbformat": 4,
 "nbformat_minor": 5
}
