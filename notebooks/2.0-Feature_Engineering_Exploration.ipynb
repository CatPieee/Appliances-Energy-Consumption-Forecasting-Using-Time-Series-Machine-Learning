{
 "cells": [
  {
   "cell_type": "code",
   "execution_count": 9,
   "id": "2d115bf1",
   "metadata": {},
   "outputs": [],
   "source": [
    "import numpy as np\n",
    "import pandas as pd\n",
    "import matplotlib.pyplot as plt\n",
    "import seaborn as sns\n",
    "\n",
    "sns.set_style(\"whitegrid\")\n",
    "plt.rcParams['figure.figsize'] = (12, 6) # default figure size\n",
    "plt.rcParams['font.size'] = 12           # default font size\n",
    "plt.rcParams['font.family'] = 'Times New Roman'"
   ]
  },
  {
   "cell_type": "code",
   "execution_count": 10,
   "id": "b2cb0868",
   "metadata": {},
   "outputs": [],
   "source": [
    "data_path = '../data/energydata_complete_raw.csv'\n",
    "\n",
    "df = pd.read_csv(data_path)"
   ]
  },
  {
   "cell_type": "markdown",
   "id": "9480daec",
   "metadata": {},
   "source": [
    "Remove rv1 and rv2"
   ]
  },
  {
   "cell_type": "code",
   "execution_count": 11,
   "id": "1e23df01",
   "metadata": {},
   "outputs": [],
   "source": [
    "df = df.drop(columns=['rv1', 'rv2'], errors='ignore')"
   ]
  },
  {
   "cell_type": "markdown",
   "id": "232bcfa6",
   "metadata": {},
   "source": [
    "Time feature extraction"
   ]
  },
  {
   "cell_type": "code",
   "execution_count": 12,
   "id": "c1d49d62",
   "metadata": {},
   "outputs": [],
   "source": [
    "date_format = \"%d-%m-%Y %H:%M\"\n",
    "df['date'] = pd.to_datetime(df['date'], format=date_format, errors='raise')\n",
    "df['hour_of_day'] = df['date'].dt.hour\n",
    "df['day_of_week'] = df['date'].dt.dayofweek # Monday:0, Sunday:6"
   ]
  },
  {
   "cell_type": "code",
   "execution_count": 13,
   "id": "1344656b",
   "metadata": {},
   "outputs": [
    {
     "name": "stdout",
     "output_type": "stream",
     "text": [
      "                 date  Appliances  lights     T1       RH_1    T2       RH_2  \\\n",
      "0 2016-01-11 17:00:00          60      30  19.89  47.596667  19.2  44.790000   \n",
      "1 2016-01-11 17:10:00          60      30  19.89  46.693333  19.2  44.722500   \n",
      "2 2016-01-11 17:20:00          50      30  19.89  46.300000  19.2  44.626667   \n",
      "3 2016-01-11 17:30:00          50      40  19.89  46.066667  19.2  44.590000   \n",
      "4 2016-01-11 17:40:00          60      40  19.89  46.333333  19.2  44.530000   \n",
      "\n",
      "      T3       RH_3         T4  ...         T9   RH_9  T_out  Press_mm_hg  \\\n",
      "0  19.79  44.730000  19.000000  ...  17.033333  45.53   6.60        733.5   \n",
      "1  19.79  44.790000  19.000000  ...  17.066667  45.56   6.48        733.6   \n",
      "2  19.79  44.933333  18.926667  ...  17.000000  45.50   6.37        733.7   \n",
      "3  19.79  45.000000  18.890000  ...  17.000000  45.40   6.25        733.8   \n",
      "4  19.79  45.000000  18.890000  ...  17.000000  45.40   6.13        733.9   \n",
      "\n",
      "   RH_out  Windspeed  Visibility  Tdewpoint  hour_of_day  day_of_week  \n",
      "0    92.0   7.000000   63.000000        5.3           17            0  \n",
      "1    92.0   6.666667   59.166667        5.2           17            0  \n",
      "2    92.0   6.333333   55.333333        5.1           17            0  \n",
      "3    92.0   6.000000   51.500000        5.0           17            0  \n",
      "4    92.0   5.666667   47.666667        4.9           17            0  \n",
      "\n",
      "[5 rows x 29 columns]\n"
     ]
    }
   ],
   "source": [
    "print(df.head())\n",
    "\n",
    "df.to_csv('../data/energydata_complete_cleaned.csv', index=False)"
   ]
  }
 ],
 "metadata": {
  "kernelspec": {
   "display_name": ".venv",
   "language": "python",
   "name": "python3"
  },
  "language_info": {
   "codemirror_mode": {
    "name": "ipython",
    "version": 3
   },
   "file_extension": ".py",
   "mimetype": "text/x-python",
   "name": "python",
   "nbconvert_exporter": "python",
   "pygments_lexer": "ipython3",
   "version": "3.13.2"
  }
 },
 "nbformat": 4,
 "nbformat_minor": 5
}
